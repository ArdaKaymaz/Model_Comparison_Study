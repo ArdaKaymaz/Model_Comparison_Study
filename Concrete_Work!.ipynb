{
  "cells": [
    {
      "cell_type": "markdown",
      "metadata": {
        "id": "qdUKD_vyoyAC"
      },
      "source": [
        "# Libraries"
      ]
    },
    {
      "cell_type": "code",
      "execution_count": 51,
      "metadata": {
        "colab": {
          "base_uri": "https://localhost:8080/"
        },
        "id": "x0FAjwuOmFkK",
        "outputId": "00748e5d-766c-460a-f153-d19ae3d84809"
      },
      "outputs": [],
      "source": [
        "import pandas as pd\n",
        "import numpy as np\n",
        "import time\n",
        "import tensorflow as tf\n",
        "import keras\n",
        "import matplotlib.pyplot as plt\n",
        "from tensorflow.keras.models import Sequential\n",
        "from tensorflow.keras.layers import Dense, Flatten, Dropout\n",
        "from sklearn.model_selection import train_test_split\n",
        "from sklearn.metrics import mean_squared_error\n",
        "from sklearn.preprocessing import StandardScaler\n",
        "import warnings\n",
        "\n",
        "from warnings import filterwarnings\n",
        "warnings.filterwarnings(\"ignore\", category=DeprecationWarning)\n",
        "warnings.filterwarnings(\"ignore\", category=FutureWarning)\n",
        "warnings.filterwarnings(\"ignore\", category=UserWarning)\n",
        "filterwarnings(\"ignore\")"
      ]
    },
    {
      "cell_type": "markdown",
      "metadata": {
        "id": "PvtBrR_Ko5ix"
      },
      "source": [
        "# Options"
      ]
    },
    {
      "cell_type": "code",
      "execution_count": 52,
      "metadata": {
        "id": "3RK8UyIio4xa"
      },
      "outputs": [],
      "source": [
        "pd.set_option(\"display.max_columns\", None)\n",
        "pd.set_option(\"display.width\", 350)\n",
        "pd.set_option(\"display.float_format\", lambda x: \"%.3f\" % x)\n",
        "warnings.simplefilter(action=\"ignore\")"
      ]
    },
    {
      "cell_type": "markdown",
      "metadata": {
        "id": "jYHBDYe8oqsh"
      },
      "source": [
        "# Dataset Reading and Exploration\n",
        "\n",
        "## Reading the dataset"
      ]
    },
    {
      "cell_type": "code",
      "execution_count": 53,
      "metadata": {
        "colab": {
          "base_uri": "https://localhost:8080/",
          "height": 206
        },
        "id": "YY79d7J9mRRd",
        "outputId": "48a3302c-1c2f-4643-d10f-d453338d3552"
      },
      "outputs": [
        {
          "data": {
            "text/html": [
              "<div>\n",
              "<style scoped>\n",
              "    .dataframe tbody tr th:only-of-type {\n",
              "        vertical-align: middle;\n",
              "    }\n",
              "\n",
              "    .dataframe tbody tr th {\n",
              "        vertical-align: top;\n",
              "    }\n",
              "\n",
              "    .dataframe thead th {\n",
              "        text-align: right;\n",
              "    }\n",
              "</style>\n",
              "<table border=\"1\" class=\"dataframe\">\n",
              "  <thead>\n",
              "    <tr style=\"text-align: right;\">\n",
              "      <th></th>\n",
              "      <th>Cement</th>\n",
              "      <th>Blast Furnace Slag</th>\n",
              "      <th>Fly Ash</th>\n",
              "      <th>Water</th>\n",
              "      <th>Superplasticizer</th>\n",
              "      <th>Coarse Aggregate</th>\n",
              "      <th>Fine Aggregate</th>\n",
              "      <th>Age</th>\n",
              "      <th>Strength</th>\n",
              "    </tr>\n",
              "  </thead>\n",
              "  <tbody>\n",
              "    <tr>\n",
              "      <th>0</th>\n",
              "      <td>540.000</td>\n",
              "      <td>0.000</td>\n",
              "      <td>0.000</td>\n",
              "      <td>162.000</td>\n",
              "      <td>2.500</td>\n",
              "      <td>1040.000</td>\n",
              "      <td>676.000</td>\n",
              "      <td>28</td>\n",
              "      <td>79.990</td>\n",
              "    </tr>\n",
              "    <tr>\n",
              "      <th>1</th>\n",
              "      <td>540.000</td>\n",
              "      <td>0.000</td>\n",
              "      <td>0.000</td>\n",
              "      <td>162.000</td>\n",
              "      <td>2.500</td>\n",
              "      <td>1055.000</td>\n",
              "      <td>676.000</td>\n",
              "      <td>28</td>\n",
              "      <td>61.890</td>\n",
              "    </tr>\n",
              "    <tr>\n",
              "      <th>2</th>\n",
              "      <td>332.500</td>\n",
              "      <td>142.500</td>\n",
              "      <td>0.000</td>\n",
              "      <td>228.000</td>\n",
              "      <td>0.000</td>\n",
              "      <td>932.000</td>\n",
              "      <td>594.000</td>\n",
              "      <td>270</td>\n",
              "      <td>40.270</td>\n",
              "    </tr>\n",
              "    <tr>\n",
              "      <th>3</th>\n",
              "      <td>332.500</td>\n",
              "      <td>142.500</td>\n",
              "      <td>0.000</td>\n",
              "      <td>228.000</td>\n",
              "      <td>0.000</td>\n",
              "      <td>932.000</td>\n",
              "      <td>594.000</td>\n",
              "      <td>365</td>\n",
              "      <td>41.050</td>\n",
              "    </tr>\n",
              "    <tr>\n",
              "      <th>4</th>\n",
              "      <td>198.600</td>\n",
              "      <td>132.400</td>\n",
              "      <td>0.000</td>\n",
              "      <td>192.000</td>\n",
              "      <td>0.000</td>\n",
              "      <td>978.400</td>\n",
              "      <td>825.500</td>\n",
              "      <td>360</td>\n",
              "      <td>44.300</td>\n",
              "    </tr>\n",
              "  </tbody>\n",
              "</table>\n",
              "</div>"
            ],
            "text/plain": [
              "   Cement  Blast Furnace Slag  Fly Ash   Water  Superplasticizer  Coarse Aggregate  Fine Aggregate  Age  Strength\n",
              "0 540.000               0.000    0.000 162.000             2.500          1040.000         676.000   28    79.990\n",
              "1 540.000               0.000    0.000 162.000             2.500          1055.000         676.000   28    61.890\n",
              "2 332.500             142.500    0.000 228.000             0.000           932.000         594.000  270    40.270\n",
              "3 332.500             142.500    0.000 228.000             0.000           932.000         594.000  365    41.050\n",
              "4 198.600             132.400    0.000 192.000             0.000           978.400         825.500  360    44.300"
            ]
          },
          "execution_count": 53,
          "metadata": {},
          "output_type": "execute_result"
        }
      ],
      "source": [
        "url = \"https://cocl.us/concrete_data\"\n",
        "\n",
        "df = pd.read_csv(url)\n",
        "df.head()"
      ]
    },
    {
      "cell_type": "markdown",
      "metadata": {
        "id": "W3Lt3dIdpdYp"
      },
      "source": [
        "# Adjusting Columns Names"
      ]
    },
    {
      "cell_type": "code",
      "execution_count": 54,
      "metadata": {
        "colab": {
          "base_uri": "https://localhost:8080/",
          "height": 206
        },
        "id": "hixS56GCol8z",
        "outputId": "131d0ace-0a0e-4e90-b586-ed5e51fe233d"
      },
      "outputs": [
        {
          "data": {
            "text/html": [
              "<div>\n",
              "<style scoped>\n",
              "    .dataframe tbody tr th:only-of-type {\n",
              "        vertical-align: middle;\n",
              "    }\n",
              "\n",
              "    .dataframe tbody tr th {\n",
              "        vertical-align: top;\n",
              "    }\n",
              "\n",
              "    .dataframe thead th {\n",
              "        text-align: right;\n",
              "    }\n",
              "</style>\n",
              "<table border=\"1\" class=\"dataframe\">\n",
              "  <thead>\n",
              "    <tr style=\"text-align: right;\">\n",
              "      <th></th>\n",
              "      <th>cement</th>\n",
              "      <th>blast_furnace_slag</th>\n",
              "      <th>fly_ash</th>\n",
              "      <th>water</th>\n",
              "      <th>superplasticizer</th>\n",
              "      <th>coarse_aggregate</th>\n",
              "      <th>fine_aggregate</th>\n",
              "      <th>age</th>\n",
              "      <th>strength</th>\n",
              "    </tr>\n",
              "  </thead>\n",
              "  <tbody>\n",
              "    <tr>\n",
              "      <th>0</th>\n",
              "      <td>540.000</td>\n",
              "      <td>0.000</td>\n",
              "      <td>0.000</td>\n",
              "      <td>162.000</td>\n",
              "      <td>2.500</td>\n",
              "      <td>1040.000</td>\n",
              "      <td>676.000</td>\n",
              "      <td>28</td>\n",
              "      <td>79.990</td>\n",
              "    </tr>\n",
              "    <tr>\n",
              "      <th>1</th>\n",
              "      <td>540.000</td>\n",
              "      <td>0.000</td>\n",
              "      <td>0.000</td>\n",
              "      <td>162.000</td>\n",
              "      <td>2.500</td>\n",
              "      <td>1055.000</td>\n",
              "      <td>676.000</td>\n",
              "      <td>28</td>\n",
              "      <td>61.890</td>\n",
              "    </tr>\n",
              "    <tr>\n",
              "      <th>2</th>\n",
              "      <td>332.500</td>\n",
              "      <td>142.500</td>\n",
              "      <td>0.000</td>\n",
              "      <td>228.000</td>\n",
              "      <td>0.000</td>\n",
              "      <td>932.000</td>\n",
              "      <td>594.000</td>\n",
              "      <td>270</td>\n",
              "      <td>40.270</td>\n",
              "    </tr>\n",
              "    <tr>\n",
              "      <th>3</th>\n",
              "      <td>332.500</td>\n",
              "      <td>142.500</td>\n",
              "      <td>0.000</td>\n",
              "      <td>228.000</td>\n",
              "      <td>0.000</td>\n",
              "      <td>932.000</td>\n",
              "      <td>594.000</td>\n",
              "      <td>365</td>\n",
              "      <td>41.050</td>\n",
              "    </tr>\n",
              "    <tr>\n",
              "      <th>4</th>\n",
              "      <td>198.600</td>\n",
              "      <td>132.400</td>\n",
              "      <td>0.000</td>\n",
              "      <td>192.000</td>\n",
              "      <td>0.000</td>\n",
              "      <td>978.400</td>\n",
              "      <td>825.500</td>\n",
              "      <td>360</td>\n",
              "      <td>44.300</td>\n",
              "    </tr>\n",
              "  </tbody>\n",
              "</table>\n",
              "</div>"
            ],
            "text/plain": [
              "   cement  blast_furnace_slag  fly_ash   water  superplasticizer  coarse_aggregate  fine_aggregate  age  strength\n",
              "0 540.000               0.000    0.000 162.000             2.500          1040.000         676.000   28    79.990\n",
              "1 540.000               0.000    0.000 162.000             2.500          1055.000         676.000   28    61.890\n",
              "2 332.500             142.500    0.000 228.000             0.000           932.000         594.000  270    40.270\n",
              "3 332.500             142.500    0.000 228.000             0.000           932.000         594.000  365    41.050\n",
              "4 198.600             132.400    0.000 192.000             0.000           978.400         825.500  360    44.300"
            ]
          },
          "execution_count": 54,
          "metadata": {},
          "output_type": "execute_result"
        }
      ],
      "source": [
        "df.columns = df.columns.str.lower()\n",
        "df.columns = df.columns.str.replace(' ', '_')\n",
        "df.head()"
      ]
    },
    {
      "cell_type": "markdown",
      "metadata": {
        "id": "CLhgkQibp8mn"
      },
      "source": [
        "# Checking The Dataset"
      ]
    },
    {
      "cell_type": "code",
      "execution_count": 55,
      "metadata": {
        "colab": {
          "base_uri": "https://localhost:8080/"
        },
        "id": "sgo22IkJp-Z3",
        "outputId": "3b2f2b53-765f-47ac-d25f-4ee0ef1118ea"
      },
      "outputs": [
        {
          "data": {
            "text/plain": [
              "cement                float64\n",
              "blast_furnace_slag    float64\n",
              "fly_ash               float64\n",
              "water                 float64\n",
              "superplasticizer      float64\n",
              "coarse_aggregate      float64\n",
              "fine_aggregate        float64\n",
              "age                     int64\n",
              "strength              float64\n",
              "dtype: object"
            ]
          },
          "execution_count": 55,
          "metadata": {},
          "output_type": "execute_result"
        }
      ],
      "source": [
        "df.dtypes"
      ]
    },
    {
      "cell_type": "code",
      "execution_count": 56,
      "metadata": {
        "colab": {
          "base_uri": "https://localhost:8080/"
        },
        "id": "fAlSm5dVqJZ_",
        "outputId": "b8946f48-e579-4bd9-88ff-02ed92fe20ba"
      },
      "outputs": [
        {
          "data": {
            "text/plain": [
              "cement                0\n",
              "blast_furnace_slag    0\n",
              "fly_ash               0\n",
              "water                 0\n",
              "superplasticizer      0\n",
              "coarse_aggregate      0\n",
              "fine_aggregate        0\n",
              "age                   0\n",
              "strength              0\n",
              "dtype: int64"
            ]
          },
          "execution_count": 56,
          "metadata": {},
          "output_type": "execute_result"
        }
      ],
      "source": [
        "df.isnull().sum()"
      ]
    },
    {
      "cell_type": "markdown",
      "metadata": {
        "id": "9UBMOaBXqSbv"
      },
      "source": [
        "All variables are numeric and no missing values are existing"
      ]
    },
    {
      "cell_type": "markdown",
      "metadata": {
        "id": "p8PGDfQrqo3A"
      },
      "source": [
        "# Creating X, which is independent (exploratory) variables and y, which is dependent (target) variable. Creating X_scaled and y_scaled for Model B, C and D."
      ]
    },
    {
      "cell_type": "code",
      "execution_count": 57,
      "metadata": {
        "id": "zgMfppaYra8-"
      },
      "outputs": [],
      "source": [
        "target_variable = \"strength\"\n",
        "independent_variables = [col for col in df.columns if col not in target_variable]"
      ]
    },
    {
      "cell_type": "markdown",
      "metadata": {
        "id": "oVKII8TwrgBO"
      },
      "source": [
        "### Model A"
      ]
    },
    {
      "cell_type": "code",
      "execution_count": 58,
      "metadata": {
        "id": "sWJ70vl6qq3Q"
      },
      "outputs": [],
      "source": [
        "X = df[independent_variables]\n",
        "y = df[target_variable]"
      ]
    },
    {
      "cell_type": "markdown",
      "metadata": {
        "id": "zc7hGhjVrk1G"
      },
      "source": [
        "### Model B, C and D"
      ]
    },
    {
      "cell_type": "code",
      "execution_count": 59,
      "metadata": {
        "id": "PPtK7I_CrdXW"
      },
      "outputs": [],
      "source": [
        "# Task B, C and D\n",
        "scaler = StandardScaler()\n",
        "\n",
        "# Reshaping for NN\n",
        "y_reshaped = y.values.reshape(-1, 1)\n",
        "\n",
        "X_scaled = scaler.fit_transform(X)\n",
        "y_scaled = scaler.fit_transform(y_reshaped)"
      ]
    },
    {
      "cell_type": "markdown",
      "metadata": {
        "id": "IX_-ptNJr_Mm"
      },
      "source": [
        "# Defining Epochs for Each Task"
      ]
    },
    {
      "cell_type": "code",
      "execution_count": 60,
      "metadata": {
        "id": "5_0MCNHjsDM-"
      },
      "outputs": [],
      "source": [
        "epochs_Model_A = 50\n",
        "epochs_Model_B = 50\n",
        "epochs_Model_C = 100\n",
        "epochs_Model_D = 50"
      ]
    },
    {
      "cell_type": "markdown",
      "metadata": {
        "id": "r2AZK7TWtA1D"
      },
      "source": [
        "# *Model A*"
      ]
    },
    {
      "cell_type": "code",
      "execution_count": 61,
      "metadata": {},
      "outputs": [
        {
          "name": "stdout",
          "output_type": "stream",
          "text": [
            "10/10 [==============================] - 0s 771us/step\n",
            "10/10 [==============================] - 0s 683us/step\n",
            "10/10 [==============================] - 0s 890us/step\n",
            "10/10 [==============================] - 0s 737us/step\n",
            "10/10 [==============================] - 0s 698us/step\n",
            "10/10 [==============================] - 0s 887us/step\n",
            "10/10 [==============================] - 0s 779us/step\n",
            "10/10 [==============================] - 0s 667us/step\n",
            "10/10 [==============================] - 0s 668us/step\n",
            "10/10 [==============================] - 0s 778us/step\n",
            "10/10 [==============================] - 0s 777us/step\n",
            "10/10 [==============================] - 0s 778us/step\n",
            "10/10 [==============================] - 0s 863us/step\n",
            "10/10 [==============================] - 0s 667us/step\n",
            "10/10 [==============================] - 0s 808us/step\n",
            "10/10 [==============================] - 0s 681us/step\n",
            "10/10 [==============================] - 0s 680us/step\n",
            "10/10 [==============================] - 0s 790us/step\n",
            "10/10 [==============================] - 0s 666us/step\n",
            "10/10 [==============================] - 0s 658us/step\n",
            "10/10 [==============================] - 0s 638us/step\n",
            "10/10 [==============================] - 0s 794us/step\n",
            "10/10 [==============================] - 0s 684us/step\n",
            "10/10 [==============================] - 0s 667us/step\n",
            "10/10 [==============================] - 0s 683us/step\n",
            "10/10 [==============================] - 0s 667us/step\n",
            "10/10 [==============================] - 0s 778us/step\n",
            "10/10 [==============================] - 0s 667us/step\n",
            "10/10 [==============================] - 0s 667us/step\n",
            "10/10 [==============================] - 0s 780us/step\n",
            "10/10 [==============================] - 0s 805us/step\n",
            "10/10 [==============================] - 0s 707us/step\n",
            "10/10 [==============================] - 0s 697us/step\n",
            "10/10 [==============================] - 0s 726us/step\n",
            "10/10 [==============================] - 0s 921us/step\n",
            "10/10 [==============================] - 0s 679us/step\n",
            "10/10 [==============================] - 0s 668us/step\n",
            "10/10 [==============================] - 0s 778us/step\n",
            "10/10 [==============================] - 0s 807us/step\n",
            "10/10 [==============================] - 0s 667us/step\n",
            "10/10 [==============================] - 0s 694us/step\n",
            "10/10 [==============================] - 0s 681us/step\n",
            "10/10 [==============================] - 0s 666us/step\n",
            "10/10 [==============================] - 0s 602us/step\n",
            "10/10 [==============================] - 0s 666us/step\n",
            "10/10 [==============================] - 0s 778us/step\n",
            "10/10 [==============================] - 0s 779us/step\n",
            "10/10 [==============================] - 0s 806us/step\n",
            "10/10 [==============================] - 0s 739us/step\n",
            "10/10 [==============================] - 0s 779us/step\n"
          ]
        }
      ],
      "source": [
        "start_Model_A = time.time()\n",
        "\n",
        "def build_and_train_model(X_train, y_train, epochs=epochs_Model_A):\n",
        "    model = Sequential()\n",
        "    model.add(Dense(10, activation='relu', input_shape=(X_train.shape[1],)))\n",
        "    model.add(Dense(1))\n",
        "    model.compile(optimizer='adam', loss='mean_squared_error')\n",
        "    history = model.fit(X_train, y_train, epochs=epochs, verbose=0)\n",
        "    \n",
        "    # Calculate the mean of weights\n",
        "    mean_weights = np.mean([np.mean(np.abs(layer.get_weights()[0])) for layer in model.layers if layer.get_weights()], axis=0)\n",
        "    \n",
        "    return model, mean_weights, history.history['loss']\n",
        "\n",
        "# Step 4 - Repeat step 1 and 3 for 50 times and creating a list of mean squared errors and mean weights\n",
        "\n",
        "mse_list_Model_A = []\n",
        "mean_weights_list_Model_A = []\n",
        "random_numbers = np.random.randint(1, 101, size=50).tolist()\n",
        "\n",
        "for i in random_numbers:\n",
        "    X_train, X_test, y_train, y_test = train_test_split(X, y, test_size=0.3, random_state=i)\n",
        "    model, mean_weights, loss_history = build_and_train_model(X_train, y_train)\n",
        "    y_pred = model.predict(X_test)\n",
        "    mse = mean_squared_error(y_test, y_pred)\n",
        "    mse_list_Model_A.append(mse)\n",
        "    mean_weights_list_Model_A.append(mean_weights)\n",
        "\n",
        "end_Model_A = time.time()\n",
        "Loop_Time_Model_A = end_Model_A - start_Model_A"
      ]
    },
    {
      "cell_type": "markdown",
      "metadata": {
        "id": "IgPCAn9lt3Ls"
      },
      "source": [
        "# *Model B*"
      ]
    },
    {
      "cell_type": "code",
      "execution_count": 62,
      "metadata": {
        "colab": {
          "base_uri": "https://localhost:8080/"
        },
        "id": "Rz-t-fyLt6FT",
        "outputId": "6dca3e1e-e86b-40e9-ca96-f1e5aae3f52e"
      },
      "outputs": [
        {
          "name": "stdout",
          "output_type": "stream",
          "text": [
            "10/10 [==============================] - 0s 778us/step\n",
            "10/10 [==============================] - 0s 778us/step\n",
            "10/10 [==============================] - 0s 778us/step\n",
            "10/10 [==============================] - 0s 718us/step\n",
            "10/10 [==============================] - 0s 668us/step\n",
            "10/10 [==============================] - 0s 667us/step\n",
            "10/10 [==============================] - 0s 795us/step\n",
            "10/10 [==============================] - 0s 666us/step\n",
            "10/10 [==============================] - 0s 667us/step\n",
            "10/10 [==============================] - 0s 680us/step\n",
            "10/10 [==============================] - 0s 667us/step\n",
            "10/10 [==============================] - 0s 736us/step\n",
            "10/10 [==============================] - 0s 696us/step\n",
            "10/10 [==============================] - 0s 778us/step\n",
            "10/10 [==============================] - 0s 776us/step\n",
            "10/10 [==============================] - 0s 661us/step\n",
            "10/10 [==============================] - 0s 826us/step\n",
            "10/10 [==============================] - 0s 667us/step\n",
            "10/10 [==============================] - 0s 777us/step\n",
            "10/10 [==============================] - 0s 823us/step\n",
            "10/10 [==============================] - 0s 667us/step\n",
            "10/10 [==============================] - 0s 755us/step\n",
            "10/10 [==============================] - 0s 667us/step\n",
            "10/10 [==============================] - 0s 663us/step\n",
            "10/10 [==============================] - 0s 778us/step\n",
            "10/10 [==============================] - 0s 697us/step\n",
            "10/10 [==============================] - 0s 778us/step\n",
            "10/10 [==============================] - 0s 778us/step\n",
            "10/10 [==============================] - 0s 778us/step\n",
            "10/10 [==============================] - 0s 776us/step\n",
            "10/10 [==============================] - 0s 778us/step\n",
            "10/10 [==============================] - 0s 778us/step\n",
            "10/10 [==============================] - 0s 763us/step\n",
            "10/10 [==============================] - 0s 778us/step\n",
            "10/10 [==============================] - 0s 771us/step\n",
            "10/10 [==============================] - 0s 778us/step\n",
            "10/10 [==============================] - 0s 683us/step\n",
            "10/10 [==============================] - 0s 778us/step\n",
            "10/10 [==============================] - 0s 666us/step\n",
            "10/10 [==============================] - 0s 796us/step\n",
            "10/10 [==============================] - 0s 667us/step\n",
            "10/10 [==============================] - 0s 556us/step\n",
            "10/10 [==============================] - 0s 778us/step\n",
            "10/10 [==============================] - 0s 690us/step\n",
            "10/10 [==============================] - 0s 668us/step\n",
            "10/10 [==============================] - 0s 684us/step\n",
            "10/10 [==============================] - 0s 802us/step\n",
            "10/10 [==============================] - 0s 667us/step\n",
            "10/10 [==============================] - 0s 794us/step\n",
            "10/10 [==============================] - 0s 778us/step\n"
          ]
        }
      ],
      "source": [
        "# Create a time interval to measure training duration\n",
        "start_Model_B = time.time()\n",
        "\n",
        "def build_and_train_model(X_train, y_train, epochs=epochs_Model_B):\n",
        "    model = Sequential()\n",
        "    model.add(Dense(10, activation='relu', input_shape=(X_train.shape[1],)))\n",
        "    model.add(Dense(1))\n",
        "    model.compile(optimizer='adam', loss='mean_squared_error')\n",
        "    history = model.fit(X_train, y_train, epochs=epochs, verbose=0)\n",
        "    \n",
        "    # Calculate the mean of weights\n",
        "    mean_weights = np.mean([np.mean(np.abs(layer.get_weights()[0])) for layer in model.layers if layer.get_weights()], axis=0)\n",
        "    \n",
        "    return model, mean_weights, history.history['loss']\n",
        "\n",
        "# Step 4 - Repeat step 1 and 3 for 50 times and creating a list of mean squared errors and mean weights\n",
        "\n",
        "mse_list_Model_B = []\n",
        "mean_weights_list_Model_B = []\n",
        "random_numbers = np.random.randint(1, 101, size=50).tolist()\n",
        "\n",
        "for i in random_numbers:\n",
        "    X_train, X_test, y_train, y_test = train_test_split(X_scaled, y_scaled, test_size=0.3, random_state=i)\n",
        "    model, mean_weights, loss_history = build_and_train_model(X_train, y_train)\n",
        "    y_pred = model.predict(X_test)\n",
        "    mse = mean_squared_error(y_test, y_pred)\n",
        "    mse_list_Model_B.append(mse)\n",
        "    mean_weights_list_Model_B.append(mean_weights)\n",
        "\n",
        "end_Model_B = time.time()\n",
        "Loop_Time_Model_B = end_Model_B - start_Model_B"
      ]
    },
    {
      "cell_type": "markdown",
      "metadata": {
        "id": "fEcQLMkKuYws"
      },
      "source": [
        "# *Model C*"
      ]
    },
    {
      "cell_type": "code",
      "execution_count": 63,
      "metadata": {
        "colab": {
          "base_uri": "https://localhost:8080/"
        },
        "id": "VMeiDwfZuhqj",
        "outputId": "c77bce91-9eb8-495d-e460-44e46ed3664a"
      },
      "outputs": [
        {
          "name": "stdout",
          "output_type": "stream",
          "text": [
            "10/10 [==============================] - 0s 668us/step\n",
            "10/10 [==============================] - 0s 732us/step\n",
            "10/10 [==============================] - 0s 667us/step\n",
            "10/10 [==============================] - 0s 776us/step\n",
            "10/10 [==============================] - 0s 750us/step\n",
            "10/10 [==============================] - 0s 625us/step\n",
            "10/10 [==============================] - 0s 668us/step\n",
            "10/10 [==============================] - 0s 667us/step\n",
            "10/10 [==============================] - 0s 778us/step\n",
            "10/10 [==============================] - 0s 667us/step\n",
            "10/10 [==============================] - 0s 667us/step\n",
            "10/10 [==============================] - 0s 684us/step\n",
            "10/10 [==============================] - 0s 778us/step\n",
            "10/10 [==============================] - 0s 778us/step\n",
            "10/10 [==============================] - 0s 667us/step\n",
            "10/10 [==============================] - 0s 773us/step\n",
            "10/10 [==============================] - 0s 796us/step\n",
            "10/10 [==============================] - 0s 668us/step\n",
            "10/10 [==============================] - 0s 668us/step\n",
            "10/10 [==============================] - 0s 680us/step\n",
            "10/10 [==============================] - 0s 2ms/step\n",
            "10/10 [==============================] - 0s 667us/step\n",
            "10/10 [==============================] - 0s 681us/step\n",
            "10/10 [==============================] - 0s 667us/step\n",
            "10/10 [==============================] - 0s 667us/step\n",
            "10/10 [==============================] - 0s 626us/step\n",
            "10/10 [==============================] - 0s 778us/step\n",
            "10/10 [==============================] - 0s 667us/step\n",
            "10/10 [==============================] - 0s 777us/step\n",
            "10/10 [==============================] - 0s 711us/step\n",
            "10/10 [==============================] - 0s 627us/step\n",
            "10/10 [==============================] - 0s 678us/step\n",
            "10/10 [==============================] - 0s 777us/step\n",
            "10/10 [==============================] - 0s 667us/step\n",
            "10/10 [==============================] - 0s 746us/step\n",
            "10/10 [==============================] - 0s 666us/step\n",
            "10/10 [==============================] - 0s 779us/step\n",
            "10/10 [==============================] - 0s 667us/step\n",
            "10/10 [==============================] - 0s 666us/step\n",
            "10/10 [==============================] - 0s 667us/step\n",
            "10/10 [==============================] - 0s 888us/step\n",
            "10/10 [==============================] - 0s 770us/step\n",
            "10/10 [==============================] - 0s 795us/step\n",
            "10/10 [==============================] - 0s 666us/step\n",
            "10/10 [==============================] - 0s 667us/step\n",
            "10/10 [==============================] - 0s 667us/step\n",
            "10/10 [==============================] - 0s 667us/step\n",
            "10/10 [==============================] - 0s 779us/step\n",
            "10/10 [==============================] - 0s 556us/step\n",
            "10/10 [==============================] - 0s 730us/step\n"
          ]
        }
      ],
      "source": [
        "# Create a time interval to measure training duration\n",
        "start_Model_C = time.time()\n",
        "\n",
        "def build_and_train_model(X_train, y_train, epochs=epochs_Model_C):\n",
        "    model = Sequential()\n",
        "    model.add(Dense(10, activation='relu', input_shape=(X_train.shape[1],)))\n",
        "    model.add(Dense(1))\n",
        "    model.compile(optimizer='adam', loss='mean_squared_error')\n",
        "    history = model.fit(X_train, y_train, epochs=epochs, verbose=0)\n",
        "    \n",
        "    # Calculate the mean of weights\n",
        "    mean_weights = np.mean([np.mean(np.abs(layer.get_weights()[0])) for layer in model.layers if layer.get_weights()], axis=0)\n",
        "    \n",
        "    return model, mean_weights, history.history['loss']\n",
        "\n",
        "# Step 4 - Repeat step 1 and 3 for 50 times and creating a list of mean squared errors and mean weights\n",
        "\n",
        "mse_list_Model_C = []\n",
        "mean_weights_list_Model_C = []\n",
        "random_numbers = np.random.randint(1, 101, size=50).tolist()\n",
        "\n",
        "for i in random_numbers:\n",
        "    X_train, X_test, y_train, y_test = train_test_split(X_scaled, y_scaled, test_size=0.3, random_state=i)\n",
        "    model, mean_weights, loss_history = build_and_train_model(X_train, y_train)\n",
        "    y_pred = model.predict(X_test)\n",
        "    mse = mean_squared_error(y_test, y_pred)\n",
        "    mse_list_Model_C.append(mse)\n",
        "    mean_weights_list_Model_C.append(mean_weights)\n",
        "\n",
        "end_Model_C = time.time()\n",
        "Loop_Time_Model_C = end_Model_C - start_Model_C"
      ]
    },
    {
      "cell_type": "markdown",
      "metadata": {
        "id": "GMaObtv_vLI7"
      },
      "source": [
        "# *Model D*"
      ]
    },
    {
      "cell_type": "code",
      "execution_count": 64,
      "metadata": {
        "colab": {
          "base_uri": "https://localhost:8080/"
        },
        "id": "X1qGlv3BvPES",
        "outputId": "bb744bab-a8c9-4122-cae0-8b6f401f4027"
      },
      "outputs": [
        {
          "name": "stdout",
          "output_type": "stream",
          "text": [
            "10/10 [==============================] - 0s 778us/step\n",
            "10/10 [==============================] - 0s 777us/step\n",
            "10/10 [==============================] - 0s 793us/step\n",
            "10/10 [==============================] - 0s 690us/step\n",
            "10/10 [==============================] - 0s 918us/step\n",
            "10/10 [==============================] - 0s 773us/step\n",
            "10/10 [==============================] - 0s 1ms/step\n",
            "10/10 [==============================] - 0s 776us/step\n",
            "10/10 [==============================] - 0s 816us/step\n",
            "10/10 [==============================] - 0s 790us/step\n",
            "10/10 [==============================] - 0s 747us/step\n",
            "10/10 [==============================] - 0s 685us/step\n",
            "10/10 [==============================] - 0s 789us/step\n",
            "10/10 [==============================] - 0s 776us/step\n",
            "10/10 [==============================] - 0s 777us/step\n",
            "10/10 [==============================] - 0s 667us/step\n",
            "10/10 [==============================] - 0s 667us/step\n",
            "10/10 [==============================] - 0s 888us/step\n",
            "10/10 [==============================] - 0s 793us/step\n",
            "10/10 [==============================] - 0s 668us/step\n",
            "10/10 [==============================] - 0s 790us/step\n",
            "10/10 [==============================] - 0s 778us/step\n",
            "10/10 [==============================] - 0s 779us/step\n",
            "10/10 [==============================] - 0s 778us/step\n",
            "10/10 [==============================] - 0s 825us/step\n",
            "10/10 [==============================] - 0s 789us/step\n",
            "10/10 [==============================] - 0s 692us/step\n",
            "10/10 [==============================] - 0s 821us/step\n",
            "10/10 [==============================] - 0s 881us/step\n",
            "10/10 [==============================] - 0s 667us/step\n",
            "10/10 [==============================] - 0s 778us/step\n",
            "10/10 [==============================] - 0s 843us/step\n",
            "10/10 [==============================] - 0s 849us/step\n",
            "10/10 [==============================] - 0s 752us/step\n",
            "10/10 [==============================] - 0s 903us/step\n",
            "10/10 [==============================] - 0s 821us/step\n",
            "10/10 [==============================] - 0s 772us/step\n",
            "10/10 [==============================] - 0s 770us/step\n",
            "10/10 [==============================] - 0s 770us/step\n",
            "10/10 [==============================] - 0s 690us/step\n",
            "10/10 [==============================] - 0s 777us/step\n",
            "10/10 [==============================] - 0s 778us/step\n",
            "10/10 [==============================] - 0s 851us/step\n",
            "10/10 [==============================] - 0s 890us/step\n",
            "10/10 [==============================] - 0s 722us/step\n",
            "10/10 [==============================] - 0s 668us/step\n",
            "10/10 [==============================] - 0s 669us/step\n",
            "10/10 [==============================] - 0s 779us/step\n",
            "10/10 [==============================] - 0s 777us/step\n",
            "10/10 [==============================] - 0s 778us/step\n"
          ]
        }
      ],
      "source": [
        "# Create a time interval to measure training duration\n",
        "start_Model_D = time.time()\n",
        "\n",
        "def build_and_train_model(X_train, y_train, epochs=epochs_Model_D):\n",
        "    model = Sequential()\n",
        "    model.add(Dense(10, activation='relu', input_shape=(X_train.shape[1],)))\n",
        "    model.add(Dense(10, activation='relu'))\n",
        "    model.add(Dense(10, activation='relu'))\n",
        "    model.add(Dense(1))\n",
        "    model.compile(optimizer='adam', loss='mean_squared_error')\n",
        "    history = model.fit(X_train, y_train, epochs=epochs, verbose=0)\n",
        "    \n",
        "    # Calculate the mean of weights\n",
        "    mean_weights = np.mean([np.mean(np.abs(layer.get_weights()[0])) for layer in model.layers if layer.get_weights()], axis=0)\n",
        "    \n",
        "    return model, mean_weights, history.history['loss']\n",
        "\n",
        "# Step 4 - Repeat step 1 and 3 for 50 times and creating a list of mean squared errors and mean weights\n",
        "\n",
        "mse_list_Model_D = []\n",
        "mean_weights_list_Model_D = []\n",
        "random_numbers = np.random.randint(1, 101, size=50).tolist()\n",
        "\n",
        "for i in random_numbers:\n",
        "    X_train, X_test, y_train, y_test = train_test_split(X_scaled, y_scaled, test_size=0.3, random_state=i)\n",
        "    model, mean_weights, loss_history = build_and_train_model(X_train, y_train)\n",
        "    y_pred = model.predict(X_test)\n",
        "    mse = mean_squared_error(y_test, y_pred)\n",
        "    mse_list_Model_D.append(mse)\n",
        "    mean_weights_list_Model_D.append(mean_weights)\n",
        "\n",
        "end_Model_D = time.time()\n",
        "Loop_Time_Model_D = end_Model_D - start_Model_D"
      ]
    },
    {
      "cell_type": "markdown",
      "metadata": {
        "id": "ztRKgb7owkwo"
      },
      "source": [
        "# Results and Conclusion"
      ]
    },
    {
      "cell_type": "markdown",
      "metadata": {
        "id": "9SWwLwK_wzbg"
      },
      "source": [
        "### Model A"
      ]
    },
    {
      "cell_type": "code",
      "execution_count": 71,
      "metadata": {
        "colab": {
          "base_uri": "https://localhost:8080/"
        },
        "id": "Ujwxiy27wo3h",
        "outputId": "70925687-e76c-41a3-c86a-e9a1e284711f"
      },
      "outputs": [
        {
          "name": "stdout",
          "output_type": "stream",
          "text": [
            "Results of Task A\n",
            "Num. of Epochs = 50\n",
            "Normalisation = Not included\n",
            "Mean of The Mean Squared Errors: 604.4906551085572\n",
            "Standard Deviation of The Mean Squared Errors: 915.0999996396506\n",
            "Train Duration for Task A (in min.) 0.987202787399292\n"
          ]
        }
      ],
      "source": [
        "mean_mse_Model_A = np.mean(mse_list_Model_A)\n",
        "std_mse_Model_A = np.std(mse_list_Model_A)\n",
        "print(f\"Results of Task A\\n\"\n",
        "      f\"Num. of Epochs = {epochs_Model_A}\\n\"\n",
        "      f\"Normalisation = Not included\\n\"\n",
        "      f\"Mean of The Mean Squared Errors: {mean_mse_Model_A}\\n\"\n",
        "      f\"Standard Deviation of The Mean Squared Errors: {std_mse_Model_A}\\n\"\n",
        "      f\"Train Duration for Task A (in min.) {Loop_Time_Model_A / 60}\")"
      ]
    },
    {
      "cell_type": "markdown",
      "metadata": {
        "id": "GPtOLEaZw4SA"
      },
      "source": [
        "### Model B"
      ]
    },
    {
      "cell_type": "code",
      "execution_count": 72,
      "metadata": {
        "colab": {
          "base_uri": "https://localhost:8080/"
        },
        "id": "LZ0KJXLsw5gn",
        "outputId": "aee89a56-a1aa-4d93-bc0e-327127a626ed"
      },
      "outputs": [
        {
          "name": "stdout",
          "output_type": "stream",
          "text": [
            "Results of Task B\n",
            "Num. of Epochs = 50\n",
            "Normalisation = Included\n",
            "Mean of The Mean Squared Errors: 39.91775981015314\n",
            "Standard Deviation of The Mean Squared Errors: 36.55362475075336\n",
            "Train Duration for Task B (in min.) 0.94232364098231\n"
          ]
        }
      ],
      "source": [
        "mean_mse_Model_B = scaler.inverse_transform(np.array(np.mean(mse_list_Model_B)).reshape(1, 1))\n",
        "std_mse_Model_B = scaler.inverse_transform(np.array(np.std(mse_list_Model_B)).reshape(1, 1))\n",
        "print(f\"Results of Task B\\n\"\n",
        "      f\"Num. of Epochs = {epochs_Model_B}\\n\"\n",
        "      f\"Normalisation = Included\\n\"\n",
        "      f\"Mean of The Mean Squared Errors: {mean_mse_Model_B[0][0]}\\n\"\n",
        "      f\"Standard Deviation of The Mean Squared Errors: {std_mse_Model_B[0][0]}\\n\"\n",
        "      f\"Train Duration for Task B (in min.) {Loop_Time_Model_B / 60}\")"
      ]
    },
    {
      "cell_type": "markdown",
      "metadata": {
        "id": "SBomjIpWw8CA"
      },
      "source": [
        "### Model C"
      ]
    },
    {
      "cell_type": "code",
      "execution_count": 79,
      "metadata": {
        "colab": {
          "base_uri": "https://localhost:8080/"
        },
        "id": "AWzVho8ew9Oq",
        "outputId": "720b8297-7f87-4682-8c2d-59dd27002fd0"
      },
      "outputs": [
        {
          "name": "stdout",
          "output_type": "stream",
          "text": [
            "Results of Task C\n",
            "Num. of Epochs = 100\n",
            "Normalisation = Included\n",
            "Mean of The Mean Squared Errors: 38.76895392872298\n",
            "Standard Deviation of The Mean Squared Errors: 36.165356513321896\n",
            "Train Duration for Task C (in min.) 1.5356334487597147\n"
          ]
        }
      ],
      "source": [
        "mean_mse_Model_C = scaler.inverse_transform(np.array(np.mean(mse_list_Model_C)).reshape(1, 1))\n",
        "std_mse_Model_C = scaler.inverse_transform(np.array(np.std(mse_list_Model_C)).reshape(1, 1))\n",
        "print(f\"Results of Task C\\n\"\n",
        "      f\"Num. of Epochs = {epochs_Model_C}\\n\"\n",
        "      f\"Normalisation = Included\\n\"\n",
        "      f\"Mean of The Mean Squared Errors: {mean_mse_Model_C[0][0]}\\n\"\n",
        "      f\"Standard Deviation of The Mean Squared Errors: {std_mse_Model_C[0][0]}\\n\"\n",
        "      f\"Train Duration for Task C (in min.) {Loop_Time_Model_C / 60}\")"
      ]
    },
    {
      "cell_type": "markdown",
      "metadata": {
        "id": "29qfoAjlxAR4"
      },
      "source": [
        "### Model D"
      ]
    },
    {
      "cell_type": "code",
      "execution_count": 74,
      "metadata": {
        "colab": {
          "base_uri": "https://localhost:8080/"
        },
        "id": "dq-8dT8fxB4H",
        "outputId": "cd7c62d2-af81-4bd5-f841-e7e350bbc51f"
      },
      "outputs": [
        {
          "name": "stdout",
          "output_type": "stream",
          "text": [
            "Results of Task D\n",
            "Num. of Epochs = 50\n",
            "Normalisation = Included\n",
            "Mean of The Mean Squared Errors: 39.00064299012844\n",
            "Standard Deviation of The Mean Squared Errors: 36.250274775514754\n",
            "Train Duration for Task D (in min.) 1.2050577084223428\n"
          ]
        }
      ],
      "source": [
        "mean_mse_Model_D = scaler.inverse_transform(np.array(np.mean(mse_list_Model_D)).reshape(1, 1))\n",
        "std_mse_Model_D = scaler.inverse_transform(np.array(np.std(mse_list_Model_D)).reshape(1, 1))\n",
        "print(f\"Results of Task D\\n\"\n",
        "      f\"Num. of Epochs = {epochs_Model_D}\\n\"\n",
        "      f\"Normalisation = Included\\n\"\n",
        "      f\"Mean of The Mean Squared Errors: {mean_mse_Model_D[0][0]}\\n\"\n",
        "      f\"Standard Deviation of The Mean Squared Errors: {std_mse_Model_D[0][0]}\\n\"\n",
        "      f\"Train Duration for Task D (in min.) {Loop_Time_Model_D / 60}\")"
      ]
    },
    {
      "cell_type": "code",
      "execution_count": 76,
      "metadata": {},
      "outputs": [
        {
          "name": "stdout",
          "output_type": "stream",
          "text": [
            "Mean/STD of The Mean Weights of Model A = 0.327/0.0406\n",
            "Mean/STD of The Mean Weights of Model B = 0.351/0.0278\n",
            "Mean/STD of The Mean Weights of Model C = 0.389/0.0274\n",
            "Mean/STD of The Mean Weights of Model D = 0.343/0.0144\n"
          ]
        }
      ],
      "source": [
        "print(f\"Mean/STD of The Mean Weights of Model A = {np.mean(mean_weights_list_Model_A):.3f}/{np.std(mean_weights_list_Model_A):.4f}\\n\"\n",
        "      f\"Mean/STD of The Mean Weights of Model B = {np.mean(mean_weights_list_Model_B):.3f}/{np.std(mean_weights_list_Model_B):.4f}\\n\"\n",
        "      f\"Mean/STD of The Mean Weights of Model C = {np.mean(mean_weights_list_Model_C):.3f}/{np.std(mean_weights_list_Model_C):.4f}\\n\"\n",
        "      f\"Mean/STD of The Mean Weights of Model D = {np.mean(mean_weights_list_Model_D):.3f}/{np.std(mean_weights_list_Model_D):.4f}\")"
      ]
    },
    {
      "cell_type": "code",
      "execution_count": 86,
      "metadata": {},
      "outputs": [
        {
          "data": {
            "image/png": "[encoded data removed]",
            "text/plain": [
              "<Figure size 1000x1500 with 3 Axes>"
            ]
          },
          "metadata": {},
          "output_type": "display_data"
        }
      ],
      "source": [
        "models_mse = ['Model A', 'Model B', 'Model C', 'Model D']\n",
        "mean_mse_values = [mean_mse_Model_A, mean_mse_Model_B, mean_mse_Model_C, mean_mse_Model_D]\n",
        "\n",
        "mean_mse_values = [np.mean(value) if isinstance(value, (list, np.ndarray)) else value for value in mean_mse_values]\n",
        "\n",
        "# Data for Mean Weights plot\n",
        "models_weights = ['Model A', 'Model B', 'Model C', 'Model D']\n",
        "mean_weights = [np.mean(mean_weights_list_Model_A), np.mean(mean_weights_list_Model_B),\n",
        "                np.mean(mean_weights_list_Model_C), np.mean(mean_weights_list_Model_D)]\n",
        "std_weights = [np.std(mean_weights_list_Model_A), np.std(mean_weights_list_Model_B),\n",
        "               np.std(mean_weights_list_Model_C), np.std(mean_weights_list_Model_D)]\n",
        "\n",
        "# Data for Training Duration plot\n",
        "models_duration = ['Model A', 'Model B', 'Model C', 'Model D']\n",
        "train_durations = [Loop_Time_Model_A / 60, Loop_Time_Model_B / 60, Loop_Time_Model_C / 60, Loop_Time_Model_D / 60]\n",
        "\n",
        "fig, axs = plt.subplots(3, 1, figsize=(10, 15))\n",
        "\n",
        "# Plotting Mean Squared Errors\n",
        "axs[0].bar(models_mse, mean_mse_values, color='skyblue')\n",
        "axs[0].set_title('Mean of The Mean Squared Errors of Models')\n",
        "axs[0].set_xlabel('Models')\n",
        "axs[0].set_ylabel('Mean of MSE')\n",
        "axs[0].set_ylim(0, max(mean_mse_values) * 1.2)\n",
        "axs[0].grid(axis='y', linestyle='--', alpha=0.7)\n",
        "axs[0].tick_params(axis='x', rotation=45)\n",
        "\n",
        "# Plotting Mean Weights\n",
        "axs[1].errorbar(models_weights, mean_weights, yerr=std_weights, fmt='o', capsize=5)\n",
        "axs[1].set_title('Mean and Standard Deviation of Mean Weights of Models')\n",
        "axs[1].set_xlabel('Models')\n",
        "axs[1].set_ylabel('Mean of The Mean Weights')\n",
        "axs[1].grid(True)\n",
        "\n",
        "# Plotting Training Duration\n",
        "axs[2].bar(models_duration, train_durations, color='lightgreen')\n",
        "axs[2].set_title('Training Duration for Models (in mins.)')\n",
        "axs[2].set_xlabel('Models')\n",
        "axs[2].set_ylabel('Training Duration (min)')\n",
        "axs[2].grid(axis='y', linestyle='--', alpha=0.7)\n",
        "axs[2].tick_params(axis='x', rotation=45)\n",
        "\n",
        "plt.tight_layout()\n",
        "plt.show()"
      ]
    },
    {
      "cell_type": "markdown",
      "metadata": {},
      "source": [
        "# *Conclusion*"
      ]
    },
    {
      "cell_type": "markdown",
      "metadata": {
        "id": "NbSL1NAxAdCP"
      },
      "source": [
        "### *Mean Squared Error*\n",
        "While the mean of the mean squared errors for Models B, C, and D are similar and close to each other, Model A's MSE value was considerably higher. The importance of scaling is evident in this study. Additionally, the standard deviation of the mean squared errors of Model A was higher than the mean of the mean squared errors, indicating higher error variation compared to other models.\n",
        "\n",
        "The reasons for this difference between scaling and not scaling can be listed as follows:\n",
        "\n",
        "1- Gradient descent convergence.\n",
        "\n",
        "2- Sensitivity to weight initialization.\n",
        "\n",
        "\n",
        "### *Means and Standart Deviations of The Models*\n",
        "While the means of the mean weights of the models were found to be similar, the variations of mean weights within the models differed. In this case, Model A had the highest variation, and it can be seen that scaling successfully decreased variation compared to Model A and Model B.\n",
        "\n",
        "In the context of the number of epochs, 50 epochs and 100 epochs did not affect the variation for Model B and Model C, respectively. However, including two additional hidden layers in the model decreased the variation of the mean weights of Model D by approximately 50%, compared to Model C and Model D.\n",
        "\n",
        "\n",
        "### *Training Duration*\n",
        "Scaling did not significantly affect training durations when comparing Model A and Model B. While the training duration of Model D, with 50 epochs and 3 hidden layers, was approximately 20% higher than that of Model B with 50 epochs and 1 hidden layer, Model C had the highest training duration with 100 epochs and 1 hidden layer.\n",
        "\n",
        "Considering all these results:\n",
        "\n",
        "1- Scaling is crucial for higher accuracy and lower variation in mean weights.\n",
        "\n",
        "2- Depth over the number of epochs results in lower training duration and lower variation in mean weights."
      ]
    }
  ],
  "metadata": {
    "accelerator": "GPU",
    "colab": {
      "gpuType": "T4",
      "provenance": [],
      "toc_visible": true
    },
    "kernelspec": {
      "display_name": "Python 3",
      "name": "python3"
    },
    "language_info": {
      "codemirror_mode": {
        "name": "ipython",
        "version": 3
      },
      "file_extension": ".py",
      "mimetype": "text/x-python",
      "name": "python",
      "nbconvert_exporter": "python",
      "pygments_lexer": "ipython3",
      "version": "3.11.4"
    }
  },
  "nbformat": 4,
  "nbformat_minor": 0
}
